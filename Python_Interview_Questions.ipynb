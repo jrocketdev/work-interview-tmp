{
 "cells": [
  {
   "cell_type": "markdown",
   "metadata": {
    "id": "u8ogRMxRQL_n"
   },
   "source": [
    "# 1. Create a Factorial Function \n",
    "\n",
    "- Function input should be a single non-negative integer\n",
    "- Function return should be a single integer value\n",
    "\n",
    "``Factorial``: the product of an integer and all the integers below it; e.g. factorial four ( 4! ) is equal to 24 (4\\*3\\*2\\*1 = 24). The factorial of zero ( 0! ) is 1."
   ]
  },
  {
   "cell_type": "code",
   "execution_count": null,
   "metadata": {
    "id": "FC6fyakdHmXA"
   },
   "outputs": [],
   "source": [
    "# add \"factorial\" function here"
   ]
  },
  {
   "cell_type": "markdown",
   "metadata": {
    "id": "Y1xRt2YdFudl"
   },
   "source": [
    "# 2. Object Oriented\n",
    "\n",
    "- Implement an object orient solution for handling shapes: \n",
    "  - e.g. Triangle, Rectangle, Square\n",
    "- Each shape will have (at least) the following property:\n",
    "  - color\n",
    "- Each shape will have (at least) the following methods:\n",
    "  - area\n",
    "  - perimeter\n",
    "\n",
    "``Notes:`` \n",
    "- Developers will likely want to add new possible shapes in the future so extensibility is desired\n",
    "- Any additional property, function or class may be added. \n",
    "- The design is up to the developer."
   ]
  },
  {
   "cell_type": "code",
   "execution_count": null,
   "metadata": {
    "id": "h2MrwP4wHtOt"
   },
   "outputs": [],
   "source": [
    "# add object oriented answer classes / methods here"
   ]
  },
  {
   "cell_type": "markdown",
   "metadata": {
    "id": "26pf3zNXF46T"
   },
   "source": [
    "# 3. Time Series Data \n",
    "\n",
    "Working with time series data from engines often requires the use of operating filters based on multiple analog values (columns) for a given timestamp (row). \n",
    "\n",
    "Using the the data set provided (``sample_turbine_operating_data.csv``) and python’s ``pandas`` package:\n",
    "\n",
    "- Create a function ``is_full_load`` to determine if a row (timestamp) of data is “full_load” using the following filter criteria:\n",
    "  - Turbine shaft speed (``NGP``) is greater than or equal to 90\n",
    "  - The difference between the control temperature (``T5_SETPOINT``) and actual temperature (``T5_1_AVG``) is less than 5.\n",
    "  - The control temperature (``T5_SETPOINT``) is greater than or equal to 1000.\n",
    "- The function input should be a single pandas dataframe (like the sample provided)\n",
    "- The function output should be a single pandas series with boolean values:\n",
    "  - The index should match the input dataframe\n",
    "  - The data for each index should be true or false depending if the full load criteria is met"
   ]
  },
  {
   "cell_type": "code",
   "execution_count": null,
   "metadata": {
    "colab": {
     "base_uri": "https://localhost:8080/",
     "height": 346
    },
    "id": "7B4rgQreGAK3",
    "outputId": "977a38b6-0d3d-4230-bd72-8cc67048313f"
   },
   "outputs": [],
   "source": [
    "import pandas as pd\n",
    "data_df = pd.read_csv('sample_turbine_operating_data.csv')\n",
    "data_df.head()"
   ]
  },
  {
   "cell_type": "code",
   "execution_count": null,
   "metadata": {
    "id": "UO9zpXN6Hd7T"
   },
   "outputs": [],
   "source": [
    "# add \"is_full_load\" function here"
   ]
  },
  {
   "cell_type": "code",
   "execution_count": null,
   "metadata": {
    "id": "VBgi3EwtHhTH"
   },
   "outputs": [],
   "source": [
    "is_full_load(data_df)"
   ]
  }
 ],
 "metadata": {
  "colab": {
   "provenance": []
  },
  "kernelspec": {
   "display_name": "Python 3 (ipykernel)",
   "language": "python",
   "name": "python3"
  },
  "language_info": {
   "codemirror_mode": {
    "name": "ipython",
    "version": 3
   },
   "file_extension": ".py",
   "mimetype": "text/x-python",
   "name": "python",
   "nbconvert_exporter": "python",
   "pygments_lexer": "ipython3",
   "version": "3.10.4"
  }
 },
 "nbformat": 4,
 "nbformat_minor": 4
}
